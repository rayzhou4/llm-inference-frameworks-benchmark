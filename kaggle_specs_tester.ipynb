{
 "cells": [
  {
   "cell_type": "markdown",
   "id": "5364881c",
   "metadata": {
    "_cell_guid": "b1076dfc-b9ad-4769-8c92-a6c4dae69d19",
    "_uuid": "8f2839f25d086af736a60e9eeb907d3b93b6e0e5",
    "papermill": {
     "duration": 0.002999,
     "end_time": "2024-06-28T21:57:06.450168",
     "exception": false,
     "start_time": "2024-06-28T21:57:06.447169",
     "status": "completed"
    },
    "tags": []
   },
   "source": [
    "# Kaggle Specs Tester\n",
    "I will use this notebook to test what specs Kaggle's notebooks currently run. This will be crucial information to further understand our LLM Inference Frameworks Benchmarks' results. I will be using NVIDIA Tesla T4 x2 instead of the other two options **for now** due to better LLM inference performance when compared to NVIDIA P100 and less wait time and more use time compared to TPU v3-8.\n",
    "\n",
    "**TLDR:** \\\n",
    "Hardware:\n",
    "- CPU: Intel(R) Xeon(R) CPU @ 2.20GHz\n",
    "- GPU: 2x NVIDIA T4 16GB\n",
    "- Memory (RAM):  32GB\n",
    "\n",
    "Software:\n",
    "- NVIDIA Driver Version: 535.129.03\n",
    "- CUDA Version: 12.2\n",
    "- PyTorch: 2.3.0"
   ]
  },
  {
   "cell_type": "markdown",
   "id": "b8454e30",
   "metadata": {
    "papermill": {
     "duration": 0.002343,
     "end_time": "2024-06-28T21:57:06.455228",
     "exception": false,
     "start_time": "2024-06-28T21:57:06.452885",
     "status": "completed"
    },
    "tags": []
   },
   "source": [
    "**Checking CPU info:** \\\n",
    "We will run the following block of code to retrieve necessary information about our Kaggle CPU."
   ]
  },
  {
   "cell_type": "code",
   "execution_count": 1,
   "id": "6f71d554",
   "metadata": {
    "execution": {
     "iopub.execute_input": "2024-06-28T21:57:06.461661Z",
     "iopub.status.busy": "2024-06-28T21:57:06.461296Z",
     "iopub.status.idle": "2024-06-28T21:57:06.489756Z",
     "shell.execute_reply": "2024-06-28T21:57:06.488485Z"
    },
    "papermill": {
     "duration": 0.034072,
     "end_time": "2024-06-28T21:57:06.491759",
     "exception": false,
     "start_time": "2024-06-28T21:57:06.457687",
     "status": "completed"
    },
    "tags": []
   },
   "outputs": [
    {
     "name": "stdout",
     "output_type": "stream",
     "text": [
      "Architecture:                       x86_64\n",
      "CPU op-mode(s):                     32-bit, 64-bit\n",
      "Byte Order:                         Little Endian\n",
      "Address sizes:                      46 bits physical, 48 bits virtual\n",
      "CPU(s):                             4\n",
      "On-line CPU(s) list:                0-3\n",
      "Thread(s) per core:                 2\n",
      "Core(s) per socket:                 2\n",
      "Socket(s):                          1\n",
      "NUMA node(s):                       1\n",
      "Vendor ID:                          GenuineIntel\n",
      "CPU family:                         6\n",
      "Model:                              85\n",
      "Model name:                         Intel(R) Xeon(R) CPU @ 2.00GHz\n",
      "Stepping:                           3\n",
      "CPU MHz:                            2000.142\n",
      "BogoMIPS:                           4000.28\n",
      "Hypervisor vendor:                  KVM\n",
      "Virtualization type:                full\n",
      "L1d cache:                          64 KiB\n",
      "L1i cache:                          64 KiB\n",
      "L2 cache:                           2 MiB\n",
      "L3 cache:                           38.5 MiB\n",
      "NUMA node0 CPU(s):                  0-3\n",
      "Vulnerability Gather data sampling: Not affected\n",
      "Vulnerability Itlb multihit:        Not affected\n",
      "Vulnerability L1tf:                 Mitigation; PTE Inversion\n",
      "Vulnerability Mds:                  Mitigation; Clear CPU buffers; SMT Host state unknown\n",
      "Vulnerability Meltdown:             Mitigation; PTI\n",
      "Vulnerability Mmio stale data:      Vulnerable: Clear CPU buffers attempted, no microcode; SMT Host state unknown\n",
      "Vulnerability Retbleed:             Mitigation; IBRS\n",
      "Vulnerability Spec rstack overflow: Not affected\n",
      "Vulnerability Spec store bypass:    Mitigation; Speculative Store Bypass disabled via prctl and seccomp\n",
      "Vulnerability Spectre v1:           Mitigation; usercopy/swapgs barriers and __user pointer sanitization\n",
      "Vulnerability Spectre v2:           Mitigation; IBRS, IBPB conditional, STIBP conditional, RSB filling, PBRSB-eIBRS Not affected\n",
      "Vulnerability Srbds:                Not affected\n",
      "Vulnerability Tsx async abort:      Mitigation; Clear CPU buffers; SMT Host state unknown\n",
      "Flags:                              fpu vme de pse tsc msr pae mce cx8 apic sep mtrr pge mca cmov pat pse36 clflush mmx fxsr sse sse2 ss ht syscall nx pdpe1gb rdtscp lm constant_tsc rep_good nopl xtopology nonstop_tsc cpuid tsc_known_freq pni pclmulqdq ssse3 fma cx16 pcid sse4_1 sse4_2 x2apic movbe popcnt aes xsave avx f16c rdrand hypervisor lahf_lm abm 3dnowprefetch invpcid_single pti ssbd ibrs ibpb stibp fsgsbase tsc_adjust bmi1 hle avx2 smep bmi2 erms invpcid rtm mpx avx512f avx512dq rdseed adx smap clflushopt clwb avx512cd avx512bw avx512vl xsaveopt xsavec xgetbv1 xsaves arat md_clear arch_capabilities\n",
      "RAM: 31.357563018798828 GB\n"
     ]
    }
   ],
   "source": [
    "# getting cpu info\n",
    "import subprocess\n",
    "import psutil\n",
    "\n",
    "def get_ram_info():\n",
    "    mem = psutil.virtual_memory()\n",
    "    ram = \"RAM: \" + str(mem.total / (1024 ** 3)) + \" GB\" # convert from bytes to GB\n",
    "    return ram\n",
    "\n",
    "def get_cpu_info():\n",
    "    cpu_info = subprocess.check_output(\"lscpu\", shell=True).decode()\n",
    "    \n",
    "    ram = get_ram_info()\n",
    "    return cpu_info + ram\n",
    "\n",
    "cpu_info = get_cpu_info()\n",
    "print(cpu_info)"
   ]
  },
  {
   "cell_type": "markdown",
   "id": "9234d050",
   "metadata": {
    "papermill": {
     "duration": 0.002407,
     "end_time": "2024-06-28T21:57:06.496812",
     "exception": false,
     "start_time": "2024-06-28T21:57:06.494405",
     "status": "completed"
    },
    "tags": []
   },
   "source": [
    "**Following from the data given above, we will be performing on the following CPU specs:**\n",
    "- *base*: Intel(R) Xeon(R) CPU @ 2.20GHz\n",
    "- *architecure*: x86_64\n",
    "- *cores*: 2 physical cores + 4 threads\n",
    "- *ram*: ~32 GB"
   ]
  },
  {
   "cell_type": "markdown",
   "id": "4eb9c36e",
   "metadata": {
    "papermill": {
     "duration": 0.00241,
     "end_time": "2024-06-28T21:57:06.501791",
     "exception": false,
     "start_time": "2024-06-28T21:57:06.499381",
     "status": "completed"
    },
    "tags": []
   },
   "source": [
    "**Checking GPU info:** \\\n",
    "We will run the following block of code to retrieve necessary information about our Kaggle GPU."
   ]
  },
  {
   "cell_type": "code",
   "execution_count": 2,
   "id": "f3a7883d",
   "metadata": {
    "execution": {
     "iopub.execute_input": "2024-06-28T21:57:06.508087Z",
     "iopub.status.busy": "2024-06-28T21:57:06.507832Z",
     "iopub.status.idle": "2024-06-28T21:57:06.610339Z",
     "shell.execute_reply": "2024-06-28T21:57:06.609190Z"
    },
    "papermill": {
     "duration": 0.107824,
     "end_time": "2024-06-28T21:57:06.612307",
     "exception": false,
     "start_time": "2024-06-28T21:57:06.504483",
     "status": "completed"
    },
    "tags": []
   },
   "outputs": [
    {
     "name": "stdout",
     "output_type": "stream",
     "text": [
      "Fri Jun 28 21:57:06 2024       \n",
      "+---------------------------------------------------------------------------------------+\n",
      "| NVIDIA-SMI 535.129.03             Driver Version: 535.129.03   CUDA Version: 12.2     |\n",
      "|-----------------------------------------+----------------------+----------------------+\n",
      "| GPU  Name                 Persistence-M | Bus-Id        Disp.A | Volatile Uncorr. ECC |\n",
      "| Fan  Temp   Perf          Pwr:Usage/Cap |         Memory-Usage | GPU-Util  Compute M. |\n",
      "|                                         |                      |               MIG M. |\n",
      "|=========================================+======================+======================|\n",
      "|   0  Tesla T4                       Off | 00000000:00:04.0 Off |                    0 |\n",
      "| N/A   40C    P8              10W /  70W |      0MiB / 15360MiB |      0%      Default |\n",
      "|                                         |                      |                  N/A |\n",
      "+-----------------------------------------+----------------------+----------------------+\n",
      "|   1  Tesla T4                       Off | 00000000:00:05.0 Off |                    0 |\n",
      "| N/A   38C    P8               9W /  70W |      0MiB / 15360MiB |      0%      Default |\n",
      "|                                         |                      |                  N/A |\n",
      "+-----------------------------------------+----------------------+----------------------+\n",
      "                                                                                         \n",
      "+---------------------------------------------------------------------------------------+\n",
      "| Processes:                                                                            |\n",
      "|  GPU   GI   CI        PID   Type   Process name                            GPU Memory |\n",
      "|        ID   ID                                                             Usage      |\n",
      "|=======================================================================================|\n",
      "|  No running processes found                                                           |\n",
      "+---------------------------------------------------------------------------------------+\n",
      "\n"
     ]
    }
   ],
   "source": [
    "# getting gpu info\n",
    "import subprocess\n",
    "\n",
    "def get_gpu_info():\n",
    "    return subprocess.check_output(\"nvidia-smi\", shell=True).decode()\n",
    "\n",
    "gpu_info = get_gpu_info()\n",
    "print(gpu_info)"
   ]
  },
  {
   "cell_type": "markdown",
   "id": "c057078e",
   "metadata": {
    "papermill": {
     "duration": 0.00262,
     "end_time": "2024-06-28T21:57:06.617806",
     "exception": false,
     "start_time": "2024-06-28T21:57:06.615186",
     "status": "completed"
    },
    "tags": []
   },
   "source": [
    "**Following from the data given above and from NVIDIA documentation for the T4, we will be performing on the following GPU specs:**\n",
    "- *base*: 2x NVIDIA TESLA T4\n",
    "- *architecture*: NVIDIA Turing\n",
    "\n",
    "the following info applies to **each** GPU (per GPU): \n",
    "- *memory*: ~16 GB\n",
    "- *memory bandwidth*: 320 GB/s\n",
    "- *single-precision performance*: 8.1 TFLOPS\n",
    "- mixed-precision performance (Tensor Cores, more relevant): 65 TFLOPS"
   ]
  },
  {
   "cell_type": "markdown",
   "id": "d18a191e",
   "metadata": {
    "papermill": {
     "duration": 0.002514,
     "end_time": "2024-06-28T21:57:06.623003",
     "exception": false,
     "start_time": "2024-06-28T21:57:06.620489",
     "status": "completed"
    },
    "tags": []
   },
   "source": [
    "**Software:** \\\n",
    "From the previous data retrieved when getting GPU info and from our performance scripts/notebooks, we see that we get the following software info:\n",
    "- NVIDIA driver version: 535.129.03\n",
    "- CUDA Version: 12.2\n",
    "- PyTorch: 2.3.0\n"
   ]
  }
 ],
 "metadata": {
  "kaggle": {
   "accelerator": "nvidiaTeslaT4",
   "dataSources": [],
   "dockerImageVersionId": 30733,
   "isGpuEnabled": true,
   "isInternetEnabled": true,
   "language": "python",
   "sourceType": "notebook"
  },
  "kernelspec": {
   "display_name": "Python 3",
   "language": "python",
   "name": "python3"
  },
  "language_info": {
   "codemirror_mode": {
    "name": "ipython",
    "version": 3
   },
   "file_extension": ".py",
   "mimetype": "text/x-python",
   "name": "python",
   "nbconvert_exporter": "python",
   "pygments_lexer": "ipython3",
   "version": "3.10.13"
  },
  "papermill": {
   "default_parameters": {},
   "duration": 4.422225,
   "end_time": "2024-06-28T21:57:06.843455",
   "environment_variables": {},
   "exception": null,
   "input_path": "__notebook__.ipynb",
   "output_path": "__notebook__.ipynb",
   "parameters": {},
   "start_time": "2024-06-28T21:57:02.421230",
   "version": "2.5.0"
  }
 },
 "nbformat": 4,
 "nbformat_minor": 5
}
